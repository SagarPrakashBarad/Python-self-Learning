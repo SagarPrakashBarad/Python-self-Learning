{
 "cells": [
  {
   "cell_type": "code",
   "execution_count": 13,
   "metadata": {},
   "outputs": [],
   "source": [
    "# Implementing a Convolution Neural Network using Pytorch\n",
    "# Tutorial: https://www.youtube.com/watch?v=HcvnPyCG-Hk&list=PLqnslRFeH2UrcDBWF5mfPGpqQDSta6VK4&index=5\n",
    "\n",
    "# Importing the libraries\n",
    "import torch\n",
    "import torch.nn as nn\n",
    "import torch.nn.functional as F\n",
    "import torchvision\n",
    "import torchvision.transforms as transforms\n",
    "import matplotlib.pyplot as plt\n",
    "import numpy as np"
   ]
  },
  {
   "cell_type": "code",
   "execution_count": 14,
   "metadata": {},
   "outputs": [],
   "source": [
    "# device config\n",
    "device = torch.device('cuda' if torch.cuda.is_available() else 'cpu')"
   ]
  },
  {
   "cell_type": "code",
   "execution_count": 24,
   "metadata": {},
   "outputs": [],
   "source": [
    "# hyper parameters\n",
    "num_epochs = 5\n",
    "batch_size = 4\n",
    "learning_rate = 0.01"
   ]
  },
  {
   "cell_type": "code",
   "execution_count": 16,
   "metadata": {},
   "outputs": [
    {
     "name": "stdout",
     "output_type": "stream",
     "text": [
      "Files already downloaded and verified\n",
      "Files already downloaded and verified\n"
     ]
    }
   ],
   "source": [
    "# dataset has PILImage images of range [0, 1]. We transform them to Tensors of normalized range [-1, 1]\n",
    "transform = transforms.Compose(\n",
    "    [transforms.ToTensor(),\n",
    "     transforms.Normalize((0.5, 0.5, 0.5), (0.5, 0.5, 0.5))]\n",
    ")\n",
    "\n",
    "train_dataset = torchvision.datasets.CIFAR10(root='./data', train=True, download=True, transform=transform)\n",
    "test_dataset = torchvision.datasets.CIFAR10(root='./data', train=False, download=True, transform=transform)\n",
    "\n",
    "train_loader = torch.utils.data.DataLoader( train_dataset, batch_size=batch_size, shuffle=True)\n",
    "test_loader = torch.utils.data.DataLoader( test_dataset, batch_size=batch_size, shuffle=False)\n",
    "\n",
    "classes = ('plane', 'car', 'bird', 'cat', 'deer', 'dog', 'frog', 'horse', 'ship', 'truck')"
   ]
  },
  {
   "cell_type": "code",
   "execution_count": 17,
   "metadata": {},
   "outputs": [
    {
     "data": {
      "image/png": "[encoded data removed]",
      "text/plain": [
       "<Figure size 640x480 with 1 Axes>"
      ]
     },
     "metadata": {},
     "output_type": "display_data"
    }
   ],
   "source": [
    "def imgshow(img):\n",
    "    img = img/2 + 0.5 # unnormalize\n",
    "    npimg = img.numpy()\n",
    "    plt.imshow(np.transpose(npimg, (1, 2, 0)))\n",
    "    plt.show()\n",
    "    \n",
    "# get some random training images\n",
    "dataiter = iter(train_loader)\n",
    "images, labels = next(dataiter)\n",
    "\n",
    "# show images\n",
    "imgshow(torchvision.utils.make_grid(images))"
   ]
  },
  {
   "cell_type": "code",
   "execution_count": 18,
   "metadata": {},
   "outputs": [
    {
     "name": "stdout",
     "output_type": "stream",
     "text": [
      "torch.Size([4, 3, 32, 32])\n",
      "torch.Size([4, 6, 28, 28])\n",
      "torch.Size([4, 6, 14, 14])\n",
      "torch.Size([4, 16, 10, 10])\n",
      "torch.Size([4, 16, 5, 5])\n"
     ]
    }
   ],
   "source": [
    "conv1 = nn.Conv2d(3, 6, 5) # 3 input image channel, 6 output channels, 5x5 square convolution kernel\n",
    "pool = nn.MaxPool2d(2, 2) # Max pooling over a (2, 2) window\n",
    "conv2 = nn.Conv2d(6, 16, 5) # 6 input image channel, 16 output channels, 5x5 square convolution kernel\n",
    "print(images.shape)\n",
    "x = conv1(images)\n",
    "print(x.shape)\n",
    "x = pool(x)\n",
    "print(x.shape)\n",
    "x = conv2(x)\n",
    "print(x.shape)\n",
    "x = pool(x)\n",
    "print(x.shape)"
   ]
  },
  {
   "cell_type": "code",
   "execution_count": 19,
   "metadata": {},
   "outputs": [],
   "source": [
    "class ConvNet(nn.Module):\n",
    "    def __init__(self):\n",
    "        super(ConvNet, self).__init__()\n",
    "        self.conv1 = nn.Conv2d(3, 6, 5) # 3 input channels, 6 output channels, 5x5 kernel\n",
    "        self.pool = nn.MaxPool2d(2, 2) # 2x2 kernel, stride 2\n",
    "        self.conv2 = nn.Conv2d(6, 16, 5) # 6 input channels, 16 output channels, 5x5 kernel\n",
    "        self.fc1 = nn.Linear(16 * 5 * 5, 120) # 16 channels, 5x5 kernel, 120 output channels\n",
    "        self.fc2 = nn.Linear(120, 84) # 120 input channels, 84 output channels\n",
    "        self.fc3 = nn.Linear(84, 10) # 84 input channels, 10 output channels\n",
    "        \n",
    "    def forward(self, x):\n",
    "        x = self.pool(F.relu(self.conv1(x))) # 1st layer\n",
    "        x = self.pool(F.relu(self.conv2(x))) # 2nd layer\n",
    "        x = x.view(-1, 16 * 5 * 5) # flatten the output of the 2nd layer\n",
    "        x = F.relu(self.fc1(x)) # 3rd layer\n",
    "        x = F.relu(self.fc2(x)) # 4th layer\n",
    "        x = self.fc3(x) # 5th layer\n",
    "        \n",
    "        return x"
   ]
  },
  {
   "cell_type": "code",
   "execution_count": 20,
   "metadata": {},
   "outputs": [],
   "source": [
    "model = ConvNet().to(device)\n",
    "\n",
    "critertion = nn.CrossEntropyLoss()\n",
    "optimizer = torch.optim.SGD(model.parameters(), lr=learning_rate)"
   ]
  },
  {
   "cell_type": "code",
   "execution_count": 25,
   "metadata": {},
   "outputs": [
    {
     "name": "stdout",
     "output_type": "stream",
     "text": [
      "epoch 1/5, step 2000/12500, loss = 1.4039\n",
      "epoch 1/5, step 4000/12500, loss = 1.3764\n",
      "epoch 1/5, step 6000/12500, loss = 1.3710\n",
      "epoch 1/5, step 8000/12500, loss = 1.3848\n",
      "epoch 1/5, step 10000/12500, loss = 1.3818\n",
      "epoch 1/5, step 12000/12500, loss = 1.3589\n",
      "epoch 2/5, step 2000/12500, loss = 1.3943\n",
      "epoch 2/5, step 4000/12500, loss = 1.3892\n",
      "epoch 2/5, step 6000/12500, loss = 1.3843\n",
      "epoch 2/5, step 8000/12500, loss = 1.4179\n",
      "epoch 2/5, step 10000/12500, loss = 1.3820\n",
      "epoch 2/5, step 12000/12500, loss = 1.4042\n",
      "epoch 3/5, step 2000/12500, loss = 1.3888\n",
      "epoch 3/5, step 4000/12500, loss = 1.4047\n",
      "epoch 3/5, step 6000/12500, loss = 1.3853\n",
      "epoch 3/5, step 8000/12500, loss = 1.3920\n",
      "epoch 3/5, step 10000/12500, loss = 1.3938\n",
      "epoch 3/5, step 12000/12500, loss = 1.3991\n",
      "epoch 4/5, step 2000/12500, loss = 1.3748\n",
      "epoch 4/5, step 4000/12500, loss = 1.3909\n",
      "epoch 4/5, step 6000/12500, loss = 1.3785\n",
      "epoch 4/5, step 8000/12500, loss = 1.3719\n",
      "epoch 4/5, step 10000/12500, loss = 1.3881\n",
      "epoch 4/5, step 12000/12500, loss = 1.3918\n",
      "epoch 5/5, step 2000/12500, loss = 1.3819\n",
      "epoch 5/5, step 4000/12500, loss = 1.3767\n",
      "epoch 5/5, step 6000/12500, loss = 1.3819\n",
      "epoch 5/5, step 8000/12500, loss = 1.3903\n",
      "epoch 5/5, step 10000/12500, loss = 1.3900\n",
      "epoch 5/5, step 12000/12500, loss = 1.3773\n",
      "Finished Training\n"
     ]
    }
   ],
   "source": [
    "n_total_steps = len(train_loader)\n",
    "\n",
    "losses = []\n",
    "for epoch in range(num_epochs):\n",
    "    for i, (images, label) in enumerate(train_loader):\n",
    "        # origin shape: [4, 3, 32, 32] = 4, 3, 1024\n",
    "        # input_layer: 3 input channels, 6 output channels, 5x5 kernel\n",
    "        images = images.to(device)\n",
    "        labels = labels.to(device)\n",
    "        \n",
    "        # forward pass\n",
    "        outputs = model(images)\n",
    "        loss = critertion(outputs, labels)\n",
    "        \n",
    "        # backward and optimize\n",
    "        optimizer.zero_grad()\n",
    "        loss.backward()\n",
    "        optimizer.step()\n",
    "        \n",
    "        if (i+1) % 2000 == 0:\n",
    "            print(f'epoch {epoch+1}/{num_epochs}, step {i+1}/{n_total_steps}, loss = {loss.item():.4f}')\n",
    "            \n",
    "        losses.append(loss.item())\n",
    "        \n",
    "print('Finished Training')\n",
    "PATH = './cnn.pth'\n",
    "torch.save(model.state_dict(), PATH)"
   ]
  },
  {
   "cell_type": "code",
   "execution_count": 26,
   "metadata": {},
   "outputs": [
    {
     "data": {
      "image/png": "[encoded data removed]",
      "text/plain": [
       "<Figure size 1000x600 with 1 Axes>"
      ]
     },
     "metadata": {},
     "output_type": "display_data"
    }
   ],
   "source": [
    "# Plotting the loss\n",
    "plt.figure(figsize=(10, 6))  # figure size\n",
    "\n",
    "# Smoothing the loss curve using a moving average\n",
    "window_size = 100\n",
    "smoothed_losses = [sum(losses[i-window_size:i])/window_size if i >= window_size else sum(losses[:i+1])/(i+1) for i in range(len(losses))]\n",
    "\n",
    "# smoothed loss curve\n",
    "plt.plot(smoothed_losses, linewidth=1.5, color='steelblue', label='Loss')\n",
    "\n",
    "plt.title('Loss vs Iteration', fontsize=16) \n",
    "plt.xlabel('Iteration', fontsize=12)  \n",
    "plt.ylabel('Loss', fontsize=12)  \n",
    "plt.legend(fontsize=12) \n",
    "plt.xticks(fontsize=10)  \n",
    "plt.yticks(fontsize=10)  \n",
    "plt.tight_layout()  \n",
    "plt.savefig('loss.pdf')\n",
    "plt.show()"
   ]
  },
  {
   "cell_type": "code",
   "execution_count": 27,
   "metadata": {},
   "outputs": [
    {
     "name": "stdout",
     "output_type": "stream",
     "text": [
      "Accuracy of the network: 9.27 %\n",
      "Accuracy of plane: 0.0 %\n",
      "Accuracy of car: 0.0 %\n",
      "Accuracy of bird: 0.0 %\n",
      "Accuracy of cat: 85.2 %\n",
      "Accuracy of deer: 0.0 %\n",
      "Accuracy of dog: 0.0 %\n",
      "Accuracy of frog: 0.0 %\n",
      "Accuracy of horse: 7.5 %\n",
      "Accuracy of ship: 0.0 %\n",
      "Accuracy of truck: 0.0 %\n"
     ]
    }
   ],
   "source": [
    "with torch.no_grad():\n",
    "    n_correct = 0\n",
    "    n_samples = 0\n",
    "    n_class_correct = [0 for i in range(10)]\n",
    "    n_class_samples = [0 for i in range(10)]\n",
    "    for images, labels in test_loader:\n",
    "        images = images.to(device)\n",
    "        labels = labels.to(device)\n",
    "        outputs = model(images)\n",
    "        # max returns (value ,index)\n",
    "        _, predicted = torch.max(outputs, 1)\n",
    "        n_samples += labels.size(0)\n",
    "        n_correct += (predicted == labels).sum().item()\n",
    "        \n",
    "        for i in range(batch_size):\n",
    "            label = labels[i]\n",
    "            pred = predicted[i]\n",
    "            if (label == pred):\n",
    "                n_class_correct[label] += 1\n",
    "            n_class_samples[label] += 1\n",
    "\n",
    "    acc = 100.0 * n_correct / n_samples\n",
    "    print(f'Accuracy of the network: {acc} %')\n",
    "\n",
    "    for i in range(10):\n",
    "        acc = 100.0 * n_class_correct[i] / n_class_samples[i]\n",
    "        print(f'Accuracy of {classes[i]}: {acc} %')"
   ]
  }
 ],
 "metadata": {
  "kernelspec": {
   "display_name": "pytorch",
   "language": "python",
   "name": "python3"
  },
  "language_info": {
   "codemirror_mode": {
    "name": "ipython",
    "version": 3
   },
   "file_extension": ".py",
   "mimetype": "text/x-python",
   "name": "python",
   "nbconvert_exporter": "python",
   "pygments_lexer": "ipython3",
   "version": "3.9.5"
  },
  "orig_nbformat": 4
 },
 "nbformat": 4,
 "nbformat_minor": 2
}
