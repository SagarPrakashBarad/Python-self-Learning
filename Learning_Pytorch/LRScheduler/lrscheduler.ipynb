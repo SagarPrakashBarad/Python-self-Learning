{
 "cells": [
  {
   "cell_type": "code",
   "execution_count": 1,
   "metadata": {},
   "outputs": [],
   "source": [
    "import torch\n",
    "import torch.nn as nn\n",
    "import torch.optim.lr_scheduler as lr_scheduler"
   ]
  },
  {
   "cell_type": "code",
   "execution_count": 3,
   "metadata": {},
   "outputs": [
    {
     "name": "stdout",
     "output_type": "stream",
     "text": [
      "0.010000000000000002\n",
      "0.020000000000000004\n",
      "0.03\n",
      "0.04000000000000001\n",
      "0.05\n",
      "0.06\n",
      "0.06999999999999999\n",
      "0.08000000000000002\n",
      "0.09000000000000001\n",
      "0.1\n"
     ]
    }
   ],
   "source": [
    "lr = 0.1\n",
    "model = nn.Linear(10, 1)\n",
    "\n",
    "optimizer = torch.optim.Adam(model.parameters(), lr=lr)\n",
    "\n",
    "lambda1 = lambda epoch: epoch / 10\n",
    "schedular = lr_scheduler.LambdaLR(optimizer, lambda1)\n",
    "\n",
    "for epoch in range(10):\n",
    "    # loss backward\n",
    "    optimizer.step()\n",
    "    # validate\n",
    "    schedular.step()\n",
    "    print(optimizer.param_groups[0]['lr'])"
   ]
  },
  {
   "cell_type": "code",
   "execution_count": 5,
   "metadata": {},
   "outputs": [
    {
     "name": "stdout",
     "output_type": "stream",
     "text": [
      "0.095\n",
      "0.09025\n",
      "0.0857375\n",
      "0.08145062499999998\n",
      "0.07737809374999999\n",
      "0.07350918906249998\n",
      "0.06983372960937498\n",
      "0.06634204312890622\n",
      "0.0630249409724609\n",
      "0.05987369392383786\n"
     ]
    }
   ],
   "source": [
    "lr = 0.1\n",
    "model = nn.Linear(10, 1)\n",
    "\n",
    "optimizer = torch.optim.Adam(model.parameters(), lr=lr)\n",
    "\n",
    "lambda1 = lambda epoch: 0.95\n",
    "schedular = lr_scheduler.MultiplicativeLR(optimizer, lambda1)\n",
    "\n",
    "for epoch in range(10):\n",
    "    # loss backward\n",
    "    optimizer.step()\n",
    "    # validate\n",
    "    schedular.step()\n",
    "    print(optimizer.param_groups[0]['lr'])"
   ]
  }
 ],
 "metadata": {
  "kernelspec": {
   "display_name": "pytorch",
   "language": "python",
   "name": "python3"
  },
  "language_info": {
   "codemirror_mode": {
    "name": "ipython",
    "version": 3
   },
   "file_extension": ".py",
   "mimetype": "text/x-python",
   "name": "python",
   "nbconvert_exporter": "python",
   "pygments_lexer": "ipython3",
   "version": "3.9.5"
  },
  "orig_nbformat": 4
 },
 "nbformat": 4,
 "nbformat_minor": 2
}
